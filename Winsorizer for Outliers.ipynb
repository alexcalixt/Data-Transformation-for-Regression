{
 "cells": [
  {
   "cell_type": "code",
   "execution_count": 1,
   "id": "27a12309",
   "metadata": {},
   "outputs": [],
   "source": [
    "import pandas as pd\n",
    "import numpy as np\n",
    "import matplotlib.pyplot as plt\n",
    "import seaborn as sns; sns.set_theme()\n",
    "%matplotlib inline"
   ]
  },
  {
   "cell_type": "markdown",
   "id": "76949692",
   "metadata": {},
   "source": [
    "# Import Data"
   ]
  },
  {
   "cell_type": "code",
   "execution_count": 2,
   "id": "26ad558c",
   "metadata": {},
   "outputs": [],
   "source": [
    "df = pd.read_csv('insurance.csv')"
   ]
  },
  {
   "cell_type": "markdown",
   "id": "5cec3bef",
   "metadata": {},
   "source": [
    "# Detention"
   ]
  },
  {
   "cell_type": "code",
   "execution_count": 3,
   "id": "09fd840b",
   "metadata": {},
   "outputs": [],
   "source": [
    "def find_skw_oulier(df, var, distance):\n",
    "    IQR = df[var].quantile(0.75) - df[var].quantile(0.25) #Q3-Q1\n",
    "    \n",
    "    upper_limit = df[var].quantile(0.25) - (IQR * distance)\n",
    "    lower_limit = df[var].quantile(0.75) + (IQR * distance)\n",
    "    \n",
    "    print('Upper Limit:',upper_limit), print('Lower Limit:',lower_limit)"
   ]
  },
  {
   "cell_type": "code",
   "execution_count": 4,
   "id": "9ddb8f2c",
   "metadata": {
    "scrolled": false
   },
   "outputs": [
    {
     "data": {
      "image/png": "[encoded data removed]",
      "text/plain": [
       "<Figure size 432x288 with 1 Axes>"
      ]
     },
     "metadata": {
      "needs_background": "light"
     },
     "output_type": "display_data"
    },
    {
     "data": {
      "text/plain": [
       "<AxesSubplot:ylabel='charges'>"
      ]
     },
     "execution_count": 4,
     "metadata": {},
     "output_type": "execute_result"
    },
    {
     "data": {
      "image/png": "[encoded data removed]",
      "text/plain": [
       "<Figure size 432x288 with 1 Axes>"
      ]
     },
     "metadata": {
      "needs_background": "light"
     },
     "output_type": "display_data"
    }
   ],
   "source": [
    "plt.hist(df['charges'])\n",
    "plt.show()\n",
    "sns.boxplot(y = df['charges'])"
   ]
  },
  {
   "cell_type": "code",
   "execution_count": 5,
   "id": "a99d4da5",
   "metadata": {},
   "outputs": [
    {
     "name": "stdout",
     "output_type": "stream",
     "text": [
      "Upper Limit: -13109.1508975\n",
      "Lower Limit: 34489.350562499996\n"
     ]
    }
   ],
   "source": [
    "find_skw_oulier(df, 'charges', 1.5)"
   ]
  },
  {
   "cell_type": "markdown",
   "id": "05da8e41",
   "metadata": {},
   "source": [
    "# Outlier Removal"
   ]
  },
  {
   "cell_type": "code",
   "execution_count": 23,
   "id": "afd2c438",
   "metadata": {},
   "outputs": [],
   "source": [
    "from feature_engine.outliers import Winsorizer"
   ]
  },
  {
   "cell_type": "code",
   "execution_count": 24,
   "id": "9272da09",
   "metadata": {},
   "outputs": [],
   "source": [
    "Winsorizer = Winsorizer( capping_method = 'iqr',\n",
    "            tail = 'right',\n",
    "            fold = 1.5,\n",
    "            variables = 'charges')"
   ]
  },
  {
   "cell_type": "code",
   "execution_count": 26,
   "id": "dc6b5216",
   "metadata": {},
   "outputs": [],
   "source": [
    "df_clean = Winsorizer.fit_transform(df)"
   ]
  },
  {
   "cell_type": "code",
   "execution_count": 30,
   "id": "175127ed",
   "metadata": {},
   "outputs": [
    {
     "data": {
      "text/plain": [
       "<AxesSubplot:ylabel='charges'>"
      ]
     },
     "execution_count": 30,
     "metadata": {},
     "output_type": "execute_result"
    },
    {
     "data": {
      "image/png": "[encoded data removed]",
      "text/plain": [
       "<Figure size 432x288 with 1 Axes>"
      ]
     },
     "metadata": {
      "needs_background": "light"
     },
     "output_type": "display_data"
    }
   ],
   "source": [
    "plt.show()\n",
    "sns.boxplot(y = df_clean['charges'])"
   ]
  },
  {
   "cell_type": "code",
   "execution_count": null,
   "id": "901da7fd",
   "metadata": {},
   "outputs": [],
   "source": []
  }
 ],
 "metadata": {
  "kernelspec": {
   "display_name": "Python 3 (ipykernel)",
   "language": "python",
   "name": "python3"
  },
  "language_info": {
   "codemirror_mode": {
    "name": "ipython",
    "version": 3
   },
   "file_extension": ".py",
   "mimetype": "text/x-python",
   "name": "python",
   "nbconvert_exporter": "python",
   "pygments_lexer": "ipython3",
   "version": "3.9.7"
  }
 },
 "nbformat": 4,
 "nbformat_minor": 5
}
